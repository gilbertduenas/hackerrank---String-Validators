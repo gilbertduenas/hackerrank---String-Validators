{
  "nbformat": 4,
  "nbformat_minor": 0,
  "metadata": {
    "colab": {
      "name": "hackerrank - String Validators",
      "provenance": [],
      "authorship_tag": "ABX9TyONlSgmZ3SS1vBGRs/zdJHd",
      "include_colab_link": true
    },
    "kernelspec": {
      "name": "python3",
      "display_name": "Python 3"
    }
  },
  "cells": [
    {
      "cell_type": "markdown",
      "metadata": {
        "id": "view-in-github",
        "colab_type": "text"
      },
      "source": [
        "<a href=\"https://colab.research.google.com/github/gilbertduenas/hackerrank---String-Validators/blob/master/hackerrank_String_Validators.ipynb\" target=\"_parent\"><img src=\"https://colab.research.google.com/assets/colab-badge.svg\" alt=\"Open In Colab\"/></a>"
      ]
    },
    {
      "cell_type": "code",
      "metadata": {
        "id": "pBXjUxabsLiM",
        "colab_type": "code",
        "colab": {
          "base_uri": "https://localhost:8080/",
          "height": 35
        },
        "outputId": "f6abd292-a1fe-4e9c-a3c4-18873216559d"
      },
      "source": [
        "'ab123'.isalnum()"
      ],
      "execution_count": null,
      "outputs": [
        {
          "output_type": "execute_result",
          "data": {
            "text/plain": [
              "True"
            ]
          },
          "metadata": {
            "tags": []
          },
          "execution_count": 1
        }
      ]
    },
    {
      "cell_type": "code",
      "metadata": {
        "id": "vVTd96yDInFr",
        "colab_type": "code",
        "colab": {
          "base_uri": "https://localhost:8080/",
          "height": 35
        },
        "outputId": "271c1f94-62aa-47b9-b875-16082682d584"
      },
      "source": [
        "'abcD'.isalpha()"
      ],
      "execution_count": null,
      "outputs": [
        {
          "output_type": "execute_result",
          "data": {
            "text/plain": [
              "True"
            ]
          },
          "metadata": {
            "tags": []
          },
          "execution_count": 2
        }
      ]
    },
    {
      "cell_type": "code",
      "metadata": {
        "id": "x54_5Jt9IonV",
        "colab_type": "code",
        "colab": {
          "base_uri": "https://localhost:8080/",
          "height": 35
        },
        "outputId": "fd4d8414-38fb-49a2-bd1a-674555ef7d78"
      },
      "source": [
        "'1234'.isdigit()"
      ],
      "execution_count": null,
      "outputs": [
        {
          "output_type": "execute_result",
          "data": {
            "text/plain": [
              "True"
            ]
          },
          "metadata": {
            "tags": []
          },
          "execution_count": 3
        }
      ]
    },
    {
      "cell_type": "code",
      "metadata": {
        "id": "KifbG6SEIpyl",
        "colab_type": "code",
        "colab": {
          "base_uri": "https://localhost:8080/",
          "height": 35
        },
        "outputId": "25fd695a-4c46-4ecf-f0ab-1df05b11393b"
      },
      "source": [
        "'abcd123#'.islower()"
      ],
      "execution_count": null,
      "outputs": [
        {
          "output_type": "execute_result",
          "data": {
            "text/plain": [
              "True"
            ]
          },
          "metadata": {
            "tags": []
          },
          "execution_count": 4
        }
      ]
    },
    {
      "cell_type": "code",
      "metadata": {
        "id": "XozHShLlIrYf",
        "colab_type": "code",
        "colab": {
          "base_uri": "https://localhost:8080/",
          "height": 35
        },
        "outputId": "aed62f81-264f-4119-aca1-704b7e9b57bd"
      },
      "source": [
        "'ABCD123#'.isupper()"
      ],
      "execution_count": null,
      "outputs": [
        {
          "output_type": "execute_result",
          "data": {
            "text/plain": [
              "True"
            ]
          },
          "metadata": {
            "tags": []
          },
          "execution_count": 5
        }
      ]
    },
    {
      "cell_type": "markdown",
      "metadata": {
        "id": "X_zqQO6tJqJV",
        "colab_type": "text"
      },
      "source": [
        "In the first line, print True if any alphanumeric characters. Otherwise, print False.\n",
        "\n",
        "In the second line, print True if any alphabetical characters. Otherwise, print False.\n",
        "\n",
        "In the third line, print True if any digits. Otherwise, print False.\n",
        "\n",
        "In the fourth line, print True if any lowercase characters. Otherwise, print False.\n",
        "\n",
        "In the fifth line, print True if any uppercase characters. Otherwise, print False.\n",
        "\n"
      ]
    },
    {
      "cell_type": "code",
      "metadata": {
        "id": "UzOSLZl0Iirz",
        "colab_type": "code",
        "colab": {}
      },
      "source": [
        "s = ''"
      ],
      "execution_count": null,
      "outputs": []
    },
    {
      "cell_type": "code",
      "metadata": {
        "id": "KgEWI3reI7Jb",
        "colab_type": "code",
        "colab": {
          "base_uri": "https://localhost:8080/",
          "height": 35
        },
        "outputId": "dd404d0d-a595-4d2f-aea8-4c4b5aae8efe"
      },
      "source": [
        "for i in s:\n",
        "  if i.isupper():\n",
        "    print(True)"
      ],
      "execution_count": null,
      "outputs": [
        {
          "output_type": "stream",
          "text": [
            "True\n"
          ],
          "name": "stdout"
        }
      ]
    },
    {
      "cell_type": "code",
      "metadata": {
        "id": "DZQEzTykJCS3",
        "colab_type": "code",
        "colab": {
          "base_uri": "https://localhost:8080/",
          "height": 52
        },
        "outputId": "218b5005-0cfd-4224-8379-044e590e74f3"
      },
      "source": [
        "[print(True) for i in s if i.isalnum()]\n",
        "[print(True) for i in s if i.isalpha()]\n",
        "[print(True) for i in s if i.isdigit()]\n",
        "[print(True) for i in s if i.islower()]\n",
        "[print(True) for i in s if i.isupper()]"
      ],
      "execution_count": null,
      "outputs": [
        {
          "output_type": "stream",
          "text": [
            "True\n"
          ],
          "name": "stdout"
        },
        {
          "output_type": "execute_result",
          "data": {
            "text/plain": [
              "[None]"
            ]
          },
          "metadata": {
            "tags": []
          },
          "execution_count": 9
        }
      ]
    },
    {
      "cell_type": "code",
      "metadata": {
        "id": "PSgh-gURKfx4",
        "colab_type": "code",
        "colab": {
          "base_uri": "https://localhost:8080/",
          "height": 35
        },
        "outputId": "170eb8bf-25c0-4be7-a2a3-a2b42b010a21"
      },
      "source": [
        "''.join([i for i in s if not i.isdigit()]).isalpha()"
      ],
      "execution_count": null,
      "outputs": [
        {
          "output_type": "execute_result",
          "data": {
            "text/plain": [
              "False"
            ]
          },
          "metadata": {
            "tags": []
          },
          "execution_count": 17
        }
      ]
    },
    {
      "cell_type": "code",
      "metadata": {
        "id": "dGUKbkGxRYeT",
        "colab_type": "code",
        "colab": {
          "base_uri": "https://localhost:8080/",
          "height": 35
        },
        "outputId": "cb5b9074-ac60-4e42-8e84-c26c72f44127"
      },
      "source": [
        "    end = len(s)-1\n",
        "\n",
        "    for i in s:\n",
        "        if i.isalnum():\n",
        "            print(True)\n",
        "            break\n",
        "        elif i == s[end]:\n",
        "            print(False)\n",
        "            \n",
        "# This is wrong\n",
        "    if ''.join([i for i in s if not i.isdigit()]).isalpha():\n",
        "        print(True)\n",
        "    else:\n",
        "        print(False)\n",
        "        \n",
        "    for i in s:\n",
        "        if i.isdigit():\n",
        "            print(True)\n",
        "            break\n",
        "        elif i == s[end]:\n",
        "            print(False)\n",
        "        \n",
        "    for i in s:\n",
        "        if i.islower():\n",
        "            print(True)\n",
        "            break\n",
        "        elif i == s[end]:\n",
        "            print(False)\n",
        "\n",
        "    for i in s:\n",
        "        if i.isupper():\n",
        "            print(True)\n",
        "            break\n",
        "        elif i == s[end]:\n",
        "            print(False)\n",
        "            "
      ],
      "execution_count": null,
      "outputs": [
        {
          "output_type": "stream",
          "text": [
            "False\n"
          ],
          "name": "stdout"
        }
      ]
    },
    {
      "cell_type": "code",
      "metadata": {
        "id": "J4m3VrpDuB51",
        "colab_type": "code",
        "colab": {}
      },
      "source": [
        ""
      ],
      "execution_count": null,
      "outputs": []
    }
  ]
}